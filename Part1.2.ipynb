{
 "cells": [
  {
   "cell_type": "code",
   "execution_count": 1,
   "id": "22c9f963",
   "metadata": {},
   "outputs": [
    {
     "data": {
      "text/plain": [
       "'C:\\\\Spark'"
      ]
     },
     "execution_count": 1,
     "metadata": {},
     "output_type": "execute_result"
    }
   ],
   "source": [
    "import findspark\n",
    "findspark.init()\n",
    "findspark.find()"
   ]
  },
  {
   "cell_type": "code",
   "execution_count": 2,
   "id": "7d38f69a",
   "metadata": {},
   "outputs": [],
   "source": [
    "import os\n",
    "import sys\n",
    "os.environ['PYSPARK_PYTHON'] = sys.executable\n",
    "os.environ['PYSPARK_DRIVER_PYTHON'] = sys.executable"
   ]
  },
  {
   "cell_type": "code",
   "execution_count": 3,
   "id": "c2b9dd56",
   "metadata": {},
   "outputs": [],
   "source": [
    "import pyspark\n",
    "from pyspark import SparkContext\n",
    "import datetime\n",
    "import datetime\n",
    "from pyspark.sql.functions import year, month, dayofmonth, expr,col,initcap, concat,lit,lower\n",
    "from pyspark.sql.types import DateType, IntegerType\n",
    "from pyspark.sql import SparkSession #Importing the Libraries\n",
    "# Creating Spark Session\n",
    "spark = SparkSession.builder.appName('SparkByExamples.com').getOrCreate()"
   ]
  },
  {
   "cell_type": "code",
   "execution_count": 4,
   "id": "f4f168c2",
   "metadata": {},
   "outputs": [
    {
     "name": "stdout",
     "output_type": "stream",
     "text": [
      "+------+----------------+------------+-------------+--------------------+----------+----------+--------+----------+---------+--------------------+-----------+---------+-----------------+\n",
      "|APT_NO|  CREDIT_CARD_NO|   CUST_CITY| CUST_COUNTRY|          CUST_EMAIL|CUST_PHONE|CUST_STATE|CUST_ZIP|FIRST_NAME|LAST_NAME|        LAST_UPDATED|MIDDLE_NAME|      SSN|      STREET_NAME|\n",
      "+------+----------------+------------+-------------+--------------------+----------+----------+--------+----------+---------+--------------------+-----------+---------+-----------------+\n",
      "|   656|4210653310061055|     Natchez|United States| AHooper@example.com|   1237818|        MS|   39120|      Alec|   Hooper|2018-04-21T12:49:...|         Wm|123456100|Main Street North|\n",
      "|   829|4210653310102868|Wethersfield|United States| EHolman@example.com|   1238933|        CT|   06109|      Etta|   Holman|2018-04-21T12:49:...|    Brendan|123453023|    Redwood Drive|\n",
      "|   683|4210653310116272|     Huntley|United States| WDunham@example.com|   1243018|        IL|   60142|    Wilber|   Dunham|2018-04-21T12:49:...|   Ezequiel|123454487| 12th Street East|\n",
      "|   253|4210653310195948|   NewBerlin|United States|  EHardy@example.com|   1243215|        WI|   53151|   Eugenio|    Hardy|2018-04-21T12:49:...|      Trina|123459758|Country Club Road|\n",
      "|   301|4210653310356919|      ElPaso|United States|  WAyers@example.com|   1242074|        TX|   79930|   Wilfred|    Ayers|2018-04-21T12:49:...|        May|123454431|   Madison Street|\n",
      "|     3|4210653310395982|NorthOlmsted|United States|BWoodard@example.com|   1242570|        OH|   44070|      Beau|  Woodard|2018-04-21T12:49:...|    Ambrose|123454202|   Colonial Drive|\n",
      "|    84|4210653310400536|      Vienna|United States|   SKemp@example.com|   1239685|        VA|   22180|    Sheila|     Kemp|2018-04-21T12:49:...|      Larry|123451799|   Belmont Avenue|\n",
      "|   728|4210653310459911|      Duarte|United States| WHurley@example.com|   1238213|        CA|   91010|     Wendy|   Hurley|2018-04-21T12:49:...|        Ora|123453875|     Oxford Court|\n",
      "|    81|4210653310773972|      Owosso|United States|AGilmore@example.com|   1240689|        MI|   48867|      Alec|  Gilmore|2018-04-21T12:49:...|     Tracie|123457511|    Forest Street|\n",
      "|   561|4210653310794854|        Zion|United States|    BLau@example.com|   1235222|        IL|   60099|    Barbra|      Lau|2018-04-21T12:49:...|    Mitchel|123457464|     Court Street|\n",
      "|   622|4210653310817373|  Youngstown|United States|EThomson@example.com|   1241363|        OH|   44512|   Edmundo|  Thomson|2018-04-21T12:49:...|      Denny|123457639|    Cypress Court|\n",
      "|   924|4210653310844617| Summerville|United States| ETruong@example.com|   1236228|        SC|   29483|      Elsa|   Truong|2018-04-21T12:49:...|   Isabelle|123453242|  8th Street West|\n",
      "|   611|4210653311015303|      ElPaso|United States|HMckinney@example...|   1238165|        TX|   79930|     Homer| Mckinney|2018-04-21T12:49:...|      Henry|123454339|      East Avenue|\n",
      "|   680|4210653311215039|      Fenton|United States|   RKidd@example.com|   1234730|        MI|   48430|      Rita|     Kidd|2018-04-21T12:49:...|     Rickey|123454537|         Route 44|\n",
      "|    71|4210653311229354|  Grandville|United States|ABallard@example.com|   1242113|        MI|   49418|    Amalia|  Ballard|2018-04-21T12:49:...|  Heriberto|123452373|    Warren Street|\n",
      "|   195|4210653311652836|    YubaCity|United States| PThomas@example.com|   1239888|        CA|   95993|     Patty|   Thomas|2018-04-21T12:49:...|   Angelita|123455343|     Jones Street|\n",
      "|   500|4210653311707126|   CapeCoral|United States| JMorrow@example.com|   1240158|        FL|   33904|  Josefina|   Morrow|2018-04-21T12:49:...|   Dorothea|123451533|       New Street|\n",
      "|   989|4210653311730764|  Brookfield|United States|NAndrews@example.com|   1241408|        WI|   53045|    Nelson|  Andrews|2018-04-21T12:49:...|  Jefferson|123459278|  Division Street|\n",
      "|   810|4210653311898082|    Richmond|United States|MSchneider@exampl...|   1238390|        VA|   23223|    Miquel|Schneider|2018-04-21T12:49:...|     Maximo|123456915|     Maple Street|\n",
      "|   649|4210653312021765| WestChester|United States|PTidwell@example.com|   1235067|        PA|   19380|    Parker|  Tidwell|2018-04-21T12:49:...|    Arnulfo|123453807|       Eagle Road|\n",
      "+------+----------------+------------+-------------+--------------------+----------+----------+--------+----------+---------+--------------------+-----------+---------+-----------------+\n",
      "only showing top 20 rows\n",
      "\n"
     ]
    }
   ],
   "source": [
    "df_cust = spark.read.format('org.apache.spark.sql.json').load(\"cdw_sapp_custmer.json\")\n",
    "df_cust.show()"
   ]
  },
  {
   "cell_type": "code",
   "execution_count": 5,
   "id": "62f0c1df",
   "metadata": {
    "scrolled": true
   },
   "outputs": [
    {
     "name": "stdout",
     "output_type": "stream",
     "text": [
      "+----------------+------------+-------------+-------------------+----------+----------+--------+----------+---------+-------------------+-----------+---------+--------------------+\n",
      "|  CREDIT_CARD_NO|   CUST_CITY| CUST_COUNTRY|         CUST_EMAIL|CUST_PHONE|CUST_STATE|CUST_ZIP|FIRST_NAME|LAST_NAME|       LAST_UPDATED|MIDDLE_NAME|      SSN| Full_STREET_ADDRESS|\n",
      "+----------------+------------+-------------+-------------------+----------+----------+--------+----------+---------+-------------------+-----------+---------+--------------------+\n",
      "|4210653310061055|     Natchez|United States|AHooper@example.com|   1237818|        MS|   39120|      Alec|   Hooper|2018-04-21 11:49:02|         wm|123456100|656,Main Street N...|\n",
      "|4210653310102868|Wethersfield|United States|EHolman@example.com|   1238933|        CT|    6109|      Etta|   Holman|2018-04-21 11:49:02|    brendan|123453023|   829,Redwood Drive|\n",
      "+----------------+------------+-------------+-------------------+----------+----------+--------+----------+---------+-------------------+-----------+---------+--------------------+\n",
      "only showing top 2 rows\n",
      "\n"
     ]
    }
   ],
   "source": [
    "#df_cust=df_cust.select(\"*\", initcap(col('FIRST_NAME')))\n",
    "#df_cust=df_cust.select(\"*\", initcap(col('LAST_NAME'))).show()\n",
    "\n",
    "\n",
    "df_cust = df_cust.withColumn(\"FIRST_NAME\", initcap(col(\"FIRST_NAME\")))\n",
    "df_cust = df_cust.withColumn(\"MIDDLE_NAME\", lower(col(\"MIDDLE_NAME\")))\n",
    "df_cust = df_cust.withColumn(\"LAST_NAME\", initcap(col(\"LAST_NAME\")))\n",
    "df_cust = df_cust.withColumn(\"Full_STREET_ADDRESS\", concat(col(\"APT_NO\"),lit(','),col(\"STREET_NAME\")))\n",
    "df_cust=df_cust.withColumn(\"CUST_ZIP\",col(\"CUST_ZIP\").cast(\"int\"))\n",
    "df_cust=df_cust.withColumn(\"SSN\",col(\"SSN\").cast(\"int\"))\n",
    "df_cust=df_cust.withColumn(\"CUST_PHONE\",col(\"CUST_PHONE\").cast(\"string\"))\n",
    "df_cust=df_cust.withColumn(\"LAST_UPDATED\",col(\"LAST_UPDATED\").cast(\"timestamp\"))\n",
    "df_cust = df_cust.drop(\"APT_NO\", \"STREET_NAME\")\n",
    "df_cust.show(2)\n"
   ]
  },
  {
   "cell_type": "code",
   "execution_count": 6,
   "id": "68d718ac",
   "metadata": {},
   "outputs": [
    {
     "name": "stdout",
     "output_type": "stream",
     "text": [
      "root\n",
      " |-- CREDIT_CARD_NO: string (nullable = true)\n",
      " |-- CUST_CITY: string (nullable = true)\n",
      " |-- CUST_COUNTRY: string (nullable = true)\n",
      " |-- CUST_EMAIL: string (nullable = true)\n",
      " |-- CUST_PHONE: string (nullable = true)\n",
      " |-- CUST_STATE: string (nullable = true)\n",
      " |-- CUST_ZIP: integer (nullable = true)\n",
      " |-- FIRST_NAME: string (nullable = true)\n",
      " |-- LAST_NAME: string (nullable = true)\n",
      " |-- LAST_UPDATED: timestamp (nullable = true)\n",
      " |-- MIDDLE_NAME: string (nullable = true)\n",
      " |-- SSN: integer (nullable = true)\n",
      " |-- Full_STREET_ADDRESS: string (nullable = true)\n",
      "\n"
     ]
    }
   ],
   "source": [
    "df_cust.printSchema()"
   ]
  },
  {
   "cell_type": "code",
   "execution_count": 7,
   "id": "10ff68d2",
   "metadata": {},
   "outputs": [
    {
     "name": "stdout",
     "output_type": "stream",
     "text": [
      "+----------------+------------+-------------+-------------------+-------------+----------+--------+----------+---------+-------------------+-----------+---------+--------------------+\n",
      "|  CREDIT_CARD_NO|   CUST_CITY| CUST_COUNTRY|         CUST_EMAIL|   CUST_PHONE|CUST_STATE|CUST_ZIP|FIRST_NAME|LAST_NAME|       LAST_UPDATED|MIDDLE_NAME|      SSN| Full_STREET_ADDRESS|\n",
      "+----------------+------------+-------------+-------------------+-------------+----------+--------+----------+---------+-------------------+-----------+---------+--------------------+\n",
      "|4210653310061055|     Natchez|United States|AHooper@example.com|(000)123-7818|        MS|   39120|      Alec|   Hooper|2018-04-21 11:49:02|         wm|123456100|656,Main Street N...|\n",
      "|4210653310102868|Wethersfield|United States|EHolman@example.com|(000)123-8933|        CT|    6109|      Etta|   Holman|2018-04-21 11:49:02|    brendan|123453023|   829,Redwood Drive|\n",
      "+----------------+------------+-------------+-------------------+-------------+----------+--------+----------+---------+-------------------+-----------+---------+--------------------+\n",
      "only showing top 2 rows\n",
      "\n"
     ]
    }
   ],
   "source": [
    "from pyspark.sql.functions import regexp_replace\n",
    "\n",
    "df_cust = df_cust.withColumn('CUST_PHONE', regexp_replace('CUST_PHONE', r'(\\d{3})(\\d{4})', r'(000)$1-$2'))\n",
    "df_cust.show(2)\n"
   ]
  },
  {
   "cell_type": "code",
   "execution_count": 8,
   "id": "1f1c00ca",
   "metadata": {},
   "outputs": [
    {
     "name": "stdout",
     "output_type": "stream",
     "text": [
      "+---------+----------+-----------+---------+----------------+--------------------+------------+----------+-------------+--------+-------------+-------------------+-------------------+\n",
      "|      SSN|FIRST_NAME|MIDDLE_NAME|LAST_NAME|  CREDIT_CARD_NO| Full_STREET_ADDRESS|   CUST_CITY|CUST_STATE| CUST_COUNTRY|CUST_ZIP|   CUST_PHONE|         CUST_EMAIL|       LAST_UPDATED|\n",
      "+---------+----------+-----------+---------+----------------+--------------------+------------+----------+-------------+--------+-------------+-------------------+-------------------+\n",
      "|123456100|      Alec|         wm|   Hooper|4210653310061055|656,Main Street N...|     Natchez|        MS|United States|   39120|(000)123-7818|AHooper@example.com|2018-04-21 11:49:02|\n",
      "|123453023|      Etta|    brendan|   Holman|4210653310102868|   829,Redwood Drive|Wethersfield|        CT|United States|    6109|(000)123-8933|EHolman@example.com|2018-04-21 11:49:02|\n",
      "+---------+----------+-----------+---------+----------------+--------------------+------------+----------+-------------+--------+-------------+-------------------+-------------------+\n",
      "only showing top 2 rows\n",
      "\n"
     ]
    }
   ],
   "source": [
    "df_cust1 = df_cust.select(\"SSN\",\"FIRST_NAME\",\"MIDDLE_NAME\",\"LAST_NAME\",\"CREDIT_CARD_NO\",\"Full_STREET_ADDRESS\",\"CUST_CITY\",\"CUST_STATE\",\"CUST_COUNTRY\",\"CUST_ZIP\",\"CUST_PHONE\",\"CUST_EMAIL\",\"LAST_UPDATED\")\n",
    "df_cust1.show(2)"
   ]
  },
  {
   "cell_type": "code",
   "execution_count": 19,
   "id": "8da4905b",
   "metadata": {},
   "outputs": [],
   "source": [
    "df_cust1.write.format(\"jdbc\")\\\n",
    ".mode(\"append\")\\\n",
    ".option(\"driver\",\"com.mysql.cj.jdbc.Driver\")\\\n",
    ".option(\"user\",\"\")\\\n",
    ".option(\"url\",\"jdbc:mysql://localhost:3306/creditcard_capstone\")\\\n",
    ".option(\"dbtable\",\"creditcard_capstone.CDW_SAPP_CUSTOMER \")\\\n",
    ".option(\"password\",\"\")\\\n",
    ".save()"
   ]
  },
  {
   "cell_type": "code",
   "execution_count": null,
   "id": "b7bea2af",
   "metadata": {},
   "outputs": [],
   "source": []
  }
 ],
 "metadata": {
  "kernelspec": {
   "display_name": "Python 3 (ipykernel)",
   "language": "python",
   "name": "python3"
  },
  "language_info": {
   "codemirror_mode": {
    "name": "ipython",
    "version": 3
   },
   "file_extension": ".py",
   "mimetype": "text/x-python",
   "name": "python",
   "nbconvert_exporter": "python",
   "pygments_lexer": "ipython3",
   "version": "3.9.12"
  }
 },
 "nbformat": 4,
 "nbformat_minor": 5
}
