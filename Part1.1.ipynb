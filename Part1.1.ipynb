{
 "cells": [
  {
   "cell_type": "code",
   "execution_count": 1,
   "id": "1bfdbdbf",
   "metadata": {},
   "outputs": [
    {
     "data": {
      "text/plain": [
       "'C:\\\\Spark'"
      ]
     },
     "execution_count": 1,
     "metadata": {},
     "output_type": "execute_result"
    }
   ],
   "source": [
    "import findspark\n",
    "findspark.init()\n",
    "findspark.find()"
   ]
  },
  {
   "cell_type": "code",
   "execution_count": 2,
   "id": "f974d12c",
   "metadata": {},
   "outputs": [],
   "source": [
    "import os\n",
    "import sys\n",
    "os.environ['PYSPARK_PYTHON'] = sys.executable\n",
    "os.environ['PYSPARK_DRIVER_PYTHON'] = sys.executable"
   ]
  },
  {
   "cell_type": "code",
   "execution_count": 3,
   "id": "ccd5a5dd",
   "metadata": {},
   "outputs": [],
   "source": [
    "import pyspark\n",
    "from pyspark import SparkContext\n",
    "#sc = SparkContext.getOrCreate ()"
   ]
  },
  {
   "cell_type": "code",
   "execution_count": 4,
   "id": "430effdb",
   "metadata": {},
   "outputs": [],
   "source": [
    "\n",
    "import datetime\n",
    "import datetime\n",
    "from pyspark.sql.functions import year, month, dayofmonth, expr,col,concat,regexp_replace\n",
    "from pyspark.sql.types import DateType, IntegerType"
   ]
  },
  {
   "cell_type": "code",
   "execution_count": 5,
   "id": "eb1a2aac",
   "metadata": {},
   "outputs": [],
   "source": [
    "#import pyspark\n",
    "from pyspark.sql import SparkSession #Importing the Libraries\n",
    "# Creating Spark Session\n",
    "spark = SparkSession.builder.appName('SparkByExamples.com').getOrCreate()"
   ]
  },
  {
   "cell_type": "code",
   "execution_count": 7,
   "id": "770bd9c5",
   "metadata": {},
   "outputs": [
    {
     "name": "stdout",
     "output_type": "stream",
     "text": [
      "+-----------+----------------+---------+---+-----+--------------+----------------+-----------------+----+\n",
      "|BRANCH_CODE|  CREDIT_CARD_NO| CUST_SSN|DAY|MONTH|TRANSACTION_ID|TRANSACTION_TYPE|TRANSACTION_VALUE|YEAR|\n",
      "+-----------+----------------+---------+---+-----+--------------+----------------+-----------------+----+\n",
      "|        114|4210653349028689|123459988| 14|    2|             1|       Education|             78.9|2018|\n",
      "|         35|4210653349028689|123459988| 20|    3|             2|   Entertainment|            14.24|2018|\n",
      "|        160|4210653349028689|123459988|  8|    7|             3|         Grocery|             56.7|2018|\n",
      "|        114|4210653349028689|123459988| 19|    4|             4|   Entertainment|            59.73|2018|\n",
      "|         93|4210653349028689|123459988| 10|   10|             5|             Gas|             3.59|2018|\n",
      "|        164|4210653349028689|123459988| 28|    5|             6|       Education|             6.89|2018|\n",
      "|        119|4210653349028689|123459988| 19|    5|             7|   Entertainment|            43.39|2018|\n",
      "|         23|4210653349028689|123459988|  8|    8|             8|             Gas|            95.39|2018|\n",
      "|        166|4210653349028689|123459988| 18|    3|             9|   Entertainment|            93.26|2018|\n",
      "|         83|4210653349028689|123459988|  3|    9|            10|           Bills|           100.38|2018|\n",
      "|         52|4210653349028689|123459988| 21|    8|            11|             Gas|            98.75|2018|\n",
      "|         17|4210653349028689|123459988| 24|   12|            12|             Gas|            42.71|2018|\n",
      "|         80|4210653349028689|123459988|  3|    4|            13|         Grocery|            40.24|2018|\n",
      "|         50|4210653349028689|123459988| 15|    4|            14|           Bills|            17.81|2018|\n",
      "|        123|4210653349028689|123459988| 17|    5|            15|           Bills|             29.0|2018|\n",
      "|          9|4210653349028689|123459988|  6|    7|            16|            Test|            70.63|2018|\n",
      "|          3|4210653349028689|123459988| 28|    9|            17|            Test|            27.04|2018|\n",
      "|        135|4210653349028689|123459988|  4|    7|            18|   Entertainment|            88.75|2018|\n",
      "|        103|4210653349028689|123459988| 24|    4|            19|            Test|            77.02|2018|\n",
      "|         78|4210653349028689|123459988|  8|   10|            20|           Bills|            34.34|2018|\n",
      "+-----------+----------------+---------+---+-----+--------------+----------------+-----------------+----+\n",
      "only showing top 20 rows\n",
      "\n"
     ]
    }
   ],
   "source": [
    "df_credit = spark.read.format('org.apache.spark.sql.json').load(\"cdw_sapp_credit.json\")\n",
    "df_credit.show()"
   ]
  },
  {
   "cell_type": "code",
   "execution_count": 8,
   "id": "0cccca51",
   "metadata": {},
   "outputs": [
    {
     "name": "stdout",
     "output_type": "stream",
     "text": [
      "root\n",
      " |-- BRANCH_CODE: long (nullable = true)\n",
      " |-- CREDIT_CARD_NO: string (nullable = true)\n",
      " |-- CUST_SSN: long (nullable = true)\n",
      " |-- DAY: long (nullable = true)\n",
      " |-- MONTH: long (nullable = true)\n",
      " |-- TRANSACTION_ID: long (nullable = true)\n",
      " |-- TRANSACTION_TYPE: string (nullable = true)\n",
      " |-- TRANSACTION_VALUE: double (nullable = true)\n",
      " |-- YEAR: long (nullable = true)\n",
      "\n"
     ]
    }
   ],
   "source": [
    "df_credit.printSchema()\n"
   ]
  },
  {
   "cell_type": "code",
   "execution_count": 9,
   "id": "9016c29d",
   "metadata": {},
   "outputs": [],
   "source": [
    "df_credit1=df_credit.withColumn(\"TIMEID\", expr(\"make_date(Year, Month, Day)\"))\n",
    "#df_credit1=df_credit1.withColumn(\"TIMEID\",col(\"TIMEID\").cast(\"string\"))\n",
    "#df_credit1=df_credit1.withColumn(\"TIMEID\", concat(col(\"YEAR\"), col(\"MONTH\"), col(\"DAY\")))\n",
    "df_credit1=df_credit1.withColumn(\"TIMEID\", regexp_replace(col(\"TIMEID\"), \"[^a-zA-Z0-9]\", \"\"))\n",
    "df_credit1=df_credit1.withColumn(\"TIMEID\",col(\"TIMEID\").cast(\"string\"))"
   ]
  },
  {
   "cell_type": "code",
   "execution_count": 10,
   "id": "b443d31f",
   "metadata": {},
   "outputs": [
    {
     "name": "stdout",
     "output_type": "stream",
     "text": [
      "+-----------+----------------+---------+---+-----+--------------+----------------+-----------------+----+--------+\n",
      "|BRANCH_CODE|  CREDIT_CARD_NO| CUST_SSN|DAY|MONTH|TRANSACTION_ID|TRANSACTION_TYPE|TRANSACTION_VALUE|YEAR|  TIMEID|\n",
      "+-----------+----------------+---------+---+-----+--------------+----------------+-----------------+----+--------+\n",
      "|        114|4210653349028689|123459988| 14|    2|             1|       Education|             78.9|2018|20180214|\n",
      "|         35|4210653349028689|123459988| 20|    3|             2|   Entertainment|            14.24|2018|20180320|\n",
      "|        160|4210653349028689|123459988|  8|    7|             3|         Grocery|             56.7|2018|20180708|\n",
      "|        114|4210653349028689|123459988| 19|    4|             4|   Entertainment|            59.73|2018|20180419|\n",
      "|         93|4210653349028689|123459988| 10|   10|             5|             Gas|             3.59|2018|20181010|\n",
      "|        164|4210653349028689|123459988| 28|    5|             6|       Education|             6.89|2018|20180528|\n",
      "|        119|4210653349028689|123459988| 19|    5|             7|   Entertainment|            43.39|2018|20180519|\n",
      "|         23|4210653349028689|123459988|  8|    8|             8|             Gas|            95.39|2018|20180808|\n",
      "|        166|4210653349028689|123459988| 18|    3|             9|   Entertainment|            93.26|2018|20180318|\n",
      "|         83|4210653349028689|123459988|  3|    9|            10|           Bills|           100.38|2018|20180903|\n",
      "|         52|4210653349028689|123459988| 21|    8|            11|             Gas|            98.75|2018|20180821|\n",
      "|         17|4210653349028689|123459988| 24|   12|            12|             Gas|            42.71|2018|20181224|\n",
      "|         80|4210653349028689|123459988|  3|    4|            13|         Grocery|            40.24|2018|20180403|\n",
      "|         50|4210653349028689|123459988| 15|    4|            14|           Bills|            17.81|2018|20180415|\n",
      "|        123|4210653349028689|123459988| 17|    5|            15|           Bills|             29.0|2018|20180517|\n",
      "|          9|4210653349028689|123459988|  6|    7|            16|            Test|            70.63|2018|20180706|\n",
      "|          3|4210653349028689|123459988| 28|    9|            17|            Test|            27.04|2018|20180928|\n",
      "|        135|4210653349028689|123459988|  4|    7|            18|   Entertainment|            88.75|2018|20180704|\n",
      "|        103|4210653349028689|123459988| 24|    4|            19|            Test|            77.02|2018|20180424|\n",
      "|         78|4210653349028689|123459988|  8|   10|            20|           Bills|            34.34|2018|20181008|\n",
      "+-----------+----------------+---------+---+-----+--------------+----------------+-----------------+----+--------+\n",
      "only showing top 20 rows\n",
      "\n"
     ]
    }
   ],
   "source": [
    "df_credit1.show()"
   ]
  },
  {
   "cell_type": "code",
   "execution_count": 11,
   "id": "6104d607",
   "metadata": {},
   "outputs": [
    {
     "name": "stdout",
     "output_type": "stream",
     "text": [
      "root\n",
      " |-- BRANCH_CODE: long (nullable = true)\n",
      " |-- CREDIT_CARD_NO: string (nullable = true)\n",
      " |-- CUST_SSN: long (nullable = true)\n",
      " |-- DAY: long (nullable = true)\n",
      " |-- MONTH: long (nullable = true)\n",
      " |-- TRANSACTION_ID: long (nullable = true)\n",
      " |-- TRANSACTION_TYPE: string (nullable = true)\n",
      " |-- TRANSACTION_VALUE: double (nullable = true)\n",
      " |-- YEAR: long (nullable = true)\n",
      " |-- TIMEID: string (nullable = true)\n",
      "\n"
     ]
    }
   ],
   "source": [
    "df_credit1.printSchema()"
   ]
  },
  {
   "cell_type": "code",
   "execution_count": 12,
   "id": "1ef19374",
   "metadata": {},
   "outputs": [
    {
     "name": "stdout",
     "output_type": "stream",
     "text": [
      "+-----------+----------------+---------+---+-----+--------------+----------------+-----------------+----+--------+\n",
      "|BRANCH_CODE|  CREDIT_CARD_NO| CUST_SSN|DAY|MONTH|TRANSACTION_ID|TRANSACTION_TYPE|TRANSACTION_VALUE|YEAR|  TIMEID|\n",
      "+-----------+----------------+---------+---+-----+--------------+----------------+-----------------+----+--------+\n",
      "|        114|4210653349028689|123459988| 14|    2|             1|       Education|             78.9|2018|20180214|\n",
      "|         35|4210653349028689|123459988| 20|    3|             2|   Entertainment|            14.24|2018|20180320|\n",
      "|        160|4210653349028689|123459988|  8|    7|             3|         Grocery|             56.7|2018|20180708|\n",
      "|        114|4210653349028689|123459988| 19|    4|             4|   Entertainment|            59.73|2018|20180419|\n",
      "|         93|4210653349028689|123459988| 10|   10|             5|             Gas|             3.59|2018|20181010|\n",
      "+-----------+----------------+---------+---+-----+--------------+----------------+-----------------+----+--------+\n",
      "only showing top 5 rows\n",
      "\n"
     ]
    }
   ],
   "source": [
    "df_credit1.show(5)"
   ]
  },
  {
   "cell_type": "code",
   "execution_count": 13,
   "id": "73d08b26",
   "metadata": {},
   "outputs": [
    {
     "name": "stdout",
     "output_type": "stream",
     "text": [
      "+-----------+----------------+---------+--------------+----------------+-----------------+--------+\n",
      "|BRANCH_CODE|      CUST_CC_NO| CUST_SSN|TRANSACTION_ID|TRANSACTION_TYPE|TRANSACTION_VALUE|  TIMEID|\n",
      "+-----------+----------------+---------+--------------+----------------+-----------------+--------+\n",
      "|        114|4210653349028689|123459988|             1|       Education|             78.9|20180214|\n",
      "|         35|4210653349028689|123459988|             2|   Entertainment|            14.24|20180320|\n",
      "|        160|4210653349028689|123459988|             3|         Grocery|             56.7|20180708|\n",
      "|        114|4210653349028689|123459988|             4|   Entertainment|            59.73|20180419|\n",
      "|         93|4210653349028689|123459988|             5|             Gas|             3.59|20181010|\n",
      "+-----------+----------------+---------+--------------+----------------+-----------------+--------+\n",
      "only showing top 5 rows\n",
      "\n"
     ]
    }
   ],
   "source": [
    "#columnlist = df_credit1.columns \n",
    "df_credit1=df_credit1.drop('DAY', 'MONTH','YEAR')\n",
    "#df_credit1.drop('MONTH')\n",
    "#df_credit1.drop('YEAR')\n",
    "df_credit1=df_credit1.withColumn(\"CUST_SSN\",col(\"CUST_SSN\").cast(\"int\"))\n",
    "df_credit1=df_credit1.withColumn(\"BRANCH_CODE\",col(\"BRANCH_CODE\").cast(\"int\"))\n",
    "df_credit1=df_credit1.withColumn(\"TRANSACTION_ID\",col(\"TRANSACTION_ID\").cast(\"int\"))\n",
    "df_credit1=df_credit1.withColumnRenamed(\"CREDIT_CARD_NO\", \"CUST_CC_NO\")\n",
    "df_credit1.show(5)"
   ]
  },
  {
   "cell_type": "code",
   "execution_count": 14,
   "id": "20520ef9",
   "metadata": {},
   "outputs": [],
   "source": [
    "df_credit2 = df_credit1.select(\"CUST_CC_NO\", \"TIMEID\", \"CUST_SSN\", \"BRANCH_CODE\", \"TRANSACTION_TYPE\", \"TRANSACTION_VALUE\", \"TRANSACTION_ID\" )"
   ]
  },
  {
   "cell_type": "code",
   "execution_count": 15,
   "id": "f29c4bfe",
   "metadata": {},
   "outputs": [
    {
     "name": "stdout",
     "output_type": "stream",
     "text": [
      "+----------------+--------+---------+-----------+----------------+-----------------+--------------+\n",
      "|      CUST_CC_NO|  TIMEID| CUST_SSN|BRANCH_CODE|TRANSACTION_TYPE|TRANSACTION_VALUE|TRANSACTION_ID|\n",
      "+----------------+--------+---------+-----------+----------------+-----------------+--------------+\n",
      "|4210653349028689|20180214|123459988|        114|       Education|             78.9|             1|\n",
      "|4210653349028689|20180320|123459988|         35|   Entertainment|            14.24|             2|\n",
      "|4210653349028689|20180708|123459988|        160|         Grocery|             56.7|             3|\n",
      "|4210653349028689|20180419|123459988|        114|   Entertainment|            59.73|             4|\n",
      "|4210653349028689|20181010|123459988|         93|             Gas|             3.59|             5|\n",
      "+----------------+--------+---------+-----------+----------------+-----------------+--------------+\n",
      "only showing top 5 rows\n",
      "\n"
     ]
    }
   ],
   "source": [
    "df_credit2.show(5)"
   ]
  },
  {
   "cell_type": "code",
   "execution_count": 30,
   "id": "db6dad53",
   "metadata": {},
   "outputs": [],
   "source": [
    "df_credit2.write.format(\"jdbc\")\\\n",
    ".mode(\"append\")\\\n",
    ".option(\"driver\",\"com.mysql.cj.jdbc.Driver\")\\\n",
    ".option(\"user\",\"\")\\\n",
    ".option(\"url\",\"jdbc:mysql://localhost:3306/creditcard_capstone\")\\\n",
    ".option(\"dbtable\",\"creditcard_capstone.CDW_SAPP_CREDIT_CARD1\")\\\n",
    ".option(\"password\",\"\")\\\n",
    ".save()"
   ]
  },
  {
   "cell_type": "code",
   "execution_count": null,
   "id": "d606b84c",
   "metadata": {},
   "outputs": [],
   "source": []
  }
 ],
 "metadata": {
  "kernelspec": {
   "display_name": "Python 3 (ipykernel)",
   "language": "python",
   "name": "python3"
  },
  "language_info": {
   "codemirror_mode": {
    "name": "ipython",
    "version": 3
   },
   "file_extension": ".py",
   "mimetype": "text/x-python",
   "name": "python",
   "nbconvert_exporter": "python",
   "pygments_lexer": "ipython3",
   "version": "3.9.12"
  }
 },
 "nbformat": 4,
 "nbformat_minor": 5
}
